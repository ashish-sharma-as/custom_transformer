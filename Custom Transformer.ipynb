{
 "cells": [
  {
   "cell_type": "markdown",
   "metadata": {},
   "source": [
    "# Sklearn Custom Transformer & Sklearn-Pandas DataFrameMapper\n",
    "\n",
    "- sklearn pipeline\n",
    "- sklearn_pandas DataFrameMapper"
   ]
  },
  {
   "cell_type": "markdown",
   "metadata": {},
   "source": [
    "---"
   ]
  },
  {
   "cell_type": "markdown",
   "metadata": {},
   "source": [
    "## Import Modules"
   ]
  },
  {
   "cell_type": "code",
   "execution_count": 1,
   "metadata": {},
   "outputs": [],
   "source": [
    "# Standard\n",
    "import pandas as pd\n",
    "\n",
    "# Custom Transformer - Classes for inheritance\n",
    "from sklearn.base import BaseEstimator, TransformerMixin\n",
    "\n",
    "# DataFrame Mapper\n",
    "from sklearn_pandas import DataFrameMapper"
   ]
  },
  {
   "cell_type": "markdown",
   "metadata": {},
   "source": [
    "---"
   ]
  },
  {
   "cell_type": "markdown",
   "metadata": {},
   "source": [
    "## Toy Data"
   ]
  },
  {
   "cell_type": "code",
   "execution_count": 2,
   "metadata": {},
   "outputs": [],
   "source": [
    "data = pd.DataFrame({'Title':      ['EEO - New York', 'EEO - Miami', 'EEO - New Jersey', 'Military Leave - Maine', 'Military Leave - Illinois'], \n",
    "                     'Policy': ['EEO', 'EEO', 'EEO', 'Military Leave', 'Military Leave'], \n",
    "                     'bodytext':   ['EEO - sent 1', 'EEO - sent 2', 'EEO - sent 3', 'Military Leave - sent 4', 'Military Leave - sent 5'], \n",
    "                     'ArticleID': [100, 200, 300, 400, 500]})"
   ]
  },
  {
   "cell_type": "code",
   "execution_count": 3,
   "metadata": {},
   "outputs": [
    {
     "data": {
      "text/html": [
       "<div>\n",
       "<style scoped>\n",
       "    .dataframe tbody tr th:only-of-type {\n",
       "        vertical-align: middle;\n",
       "    }\n",
       "\n",
       "    .dataframe tbody tr th {\n",
       "        vertical-align: top;\n",
       "    }\n",
       "\n",
       "    .dataframe thead th {\n",
       "        text-align: right;\n",
       "    }\n",
       "</style>\n",
       "<table border=\"1\" class=\"dataframe\">\n",
       "  <thead>\n",
       "    <tr style=\"text-align: right;\">\n",
       "      <th></th>\n",
       "      <th>Title</th>\n",
       "      <th>Policy</th>\n",
       "      <th>bodytext</th>\n",
       "      <th>ArticleID</th>\n",
       "    </tr>\n",
       "  </thead>\n",
       "  <tbody>\n",
       "    <tr>\n",
       "      <th>0</th>\n",
       "      <td>EEO - New York</td>\n",
       "      <td>EEO</td>\n",
       "      <td>EEO - sent 1</td>\n",
       "      <td>100</td>\n",
       "    </tr>\n",
       "    <tr>\n",
       "      <th>1</th>\n",
       "      <td>EEO - Miami</td>\n",
       "      <td>EEO</td>\n",
       "      <td>EEO - sent 2</td>\n",
       "      <td>200</td>\n",
       "    </tr>\n",
       "    <tr>\n",
       "      <th>2</th>\n",
       "      <td>EEO - New Jersey</td>\n",
       "      <td>EEO</td>\n",
       "      <td>EEO - sent 3</td>\n",
       "      <td>300</td>\n",
       "    </tr>\n",
       "    <tr>\n",
       "      <th>3</th>\n",
       "      <td>Military Leave - Maine</td>\n",
       "      <td>Military Leave</td>\n",
       "      <td>Military Leave - sent 4</td>\n",
       "      <td>400</td>\n",
       "    </tr>\n",
       "    <tr>\n",
       "      <th>4</th>\n",
       "      <td>Military Leave - Illinois</td>\n",
       "      <td>Military Leave</td>\n",
       "      <td>Military Leave - sent 5</td>\n",
       "      <td>500</td>\n",
       "    </tr>\n",
       "  </tbody>\n",
       "</table>\n",
       "</div>"
      ],
      "text/plain": [
       "                       Title          Policy                 bodytext  \\\n",
       "0             EEO - New York             EEO             EEO - sent 1   \n",
       "1                EEO - Miami             EEO             EEO - sent 2   \n",
       "2           EEO - New Jersey             EEO             EEO - sent 3   \n",
       "3     Military Leave - Maine  Military Leave  Military Leave - sent 4   \n",
       "4  Military Leave - Illinois  Military Leave  Military Leave - sent 5   \n",
       "\n",
       "   ArticleID  \n",
       "0        100  \n",
       "1        200  \n",
       "2        300  \n",
       "3        400  \n",
       "4        500  "
      ]
     },
     "execution_count": 3,
     "metadata": {},
     "output_type": "execute_result"
    }
   ],
   "source": [
    "data"
   ]
  },
  {
   "cell_type": "markdown",
   "metadata": {},
   "source": [
    "---"
   ]
  },
  {
   "cell_type": "markdown",
   "metadata": {},
   "source": [
    "## I. Sklearn - Custom Transformer"
   ]
  },
  {
   "cell_type": "markdown",
   "metadata": {},
   "source": [
    "- Objective here is to create a custom transformer that can be used across datasets in an automated fashion\n",
    "- We'll use sklearn's custom transformer so that the same operations can be done across datasets in a streamlined manner\n",
    "- Transformation is to group all the text within \"bodytext\" column into 1 string per \"Policy\""
   ]
  },
  {
   "cell_type": "code",
   "execution_count": 4,
   "metadata": {},
   "outputs": [],
   "source": [
    "class TextGroupingCustomTransformer(BaseEstimator, TransformerMixin):\n",
    "    \"\"\"\n",
    "    Descr: \n",
    "        This class contains methods to undertake grouping of\n",
    "        text within each policy by the overall policy it falls\n",
    "        under. This custom transformer will be used in sklearn\n",
    "        pipelines to prevent data leakage and to automate similar\n",
    "        tranformation on unseen data.\n",
    "        In order to make this custom transformer compatible with\n",
    "        sklearn, it is implemented as a class with methods such as\n",
    "        fit, transform while inheriting from the 2 base classes \n",
    "        mentioned\n",
    "    Return:\n",
    "        - Pandas Series\n",
    "    \"\"\"\n",
    "    \n",
    "    # Class constructor\n",
    "    def __init__(self, grp_by_col, text_content_column):\n",
    "        \"\"\"\n",
    "        Descr: \n",
    "            Class constructor that initializes the class\n",
    "        Input:\n",
    "            - grp_by_col (str): Column to group on\n",
    "            - text_content_column (str): Column whose contents are \n",
    "              to be concatenated per group\n",
    "        \"\"\"\n",
    "        # Check is string is entered\n",
    "        if not isinstance(grp_by_col, str):\n",
    "            raise ValueError('Inappropriate type: {} for policy. A string \\\n",
    "is expected'.format(type(grp_by_col)))\n",
    "\n",
    "        if not isinstance(text_content_column, str):\n",
    "            raise ValueError('Inappropriate type: {} for policy. A string \\\n",
    "is expected'.format(type(text_content_column)))\n",
    "        \n",
    "        # Set class variables\n",
    "        self.grp_by_col = grp_by_col\n",
    "        self.text_content_column = text_content_column\n",
    "\n",
    "        \n",
    "    # Fit Method\n",
    "    def fit(self, X, y=None):\n",
    "        \"\"\"\n",
    "        Descr: \n",
    "            Fit method\n",
    "        Input:\n",
    "            - X (pd.DataFrame or np.array): features\n",
    "            - y (pd.Series or np.array): target\n",
    "        Return:\n",
    "            - self\n",
    "        \"\"\"        \n",
    "        return self\n",
    "\n",
    "    \n",
    "    # Text Grouping function\n",
    "    def text_grping_func(self, grped_txt_col):\n",
    "        \"\"\"\n",
    "        Descr: \n",
    "             # Text Grouping function used by Transform method below\n",
    "        Input:\n",
    "            - grped_txt_col (pd.Series): column from grouped data\n",
    "        Return:\n",
    "            - string of text concatenated across titles within a policy\n",
    "        \"\"\"\n",
    "        return \" \".join(content for content in grped_txt_col)\n",
    "\n",
    "    \n",
    "    # Transform Method\n",
    "    def transform(self, X, y=None):\n",
    "        \"\"\"\n",
    "        Descr: \n",
    "            Transform Method for custom transformations\n",
    "        Input:\n",
    "            - X (pd.DataFrame or np.array): features\n",
    "            - y (pd.Series or np.array): target\n",
    "        Return:\n",
    "            - pd.Series\n",
    "        \"\"\"        \n",
    "        # Create a policy group to group df by policy\n",
    "        policy_grp = X.groupby(self.grp_by_col)\n",
    "        \n",
    "        # Checking the groupings done above\n",
    "        print('Grouped by:')\n",
    "        # print(policy_grp.groups.keys())\n",
    "        for i, key in enumerate(policy_grp.groups.keys()):\n",
    "            print(f\"{i:<{4}} : {key}\")\n",
    "        print('-'*30)\n",
    "        \n",
    "        # lambda function on the group to apply grouping\n",
    "        # tranformation to each group\n",
    "        tf_return = policy_grp.apply(lambda g: self.text_grping_func(g[self.text_content_column]))\n",
    "        \n",
    "        print('Returning an object of type: ', type(tf_return))\n",
    "        \n",
    "        return tf_return"
   ]
  },
  {
   "cell_type": "markdown",
   "metadata": {},
   "source": [
    "---"
   ]
  },
  {
   "cell_type": "markdown",
   "metadata": {},
   "source": [
    "### Custom Transformer via sklearn"
   ]
  },
  {
   "cell_type": "code",
   "execution_count": 5,
   "metadata": {
    "scrolled": true
   },
   "outputs": [
    {
     "data": {
      "text/plain": [
       "TextGroupingCustomTransformer(grp_by_col='Policy',\n",
       "                              text_content_column='bodytext')"
      ]
     },
     "execution_count": 5,
     "metadata": {},
     "output_type": "execute_result"
    }
   ],
   "source": [
    "# Instantiate the custom transformer\n",
    "\n",
    "txt_grp_tf = TextGroupingCustomTransformer('Policy', 'bodytext')\n",
    "txt_grp_tf"
   ]
  },
  {
   "cell_type": "code",
   "execution_count": 6,
   "metadata": {
    "scrolled": true
   },
   "outputs": [
    {
     "name": "stdout",
     "output_type": "stream",
     "text": [
      "Grouped by:\n",
      "0    : EEO\n",
      "1    : Military Leave\n",
      "------------------------------\n",
      "Returning an object of type:  <class 'pandas.core.series.Series'>\n"
     ]
    }
   ],
   "source": [
    "# Run the transformer on the toy data established earlier\n",
    "\n",
    "tf_output = txt_grp_tf.fit_transform(data)"
   ]
  },
  {
   "cell_type": "code",
   "execution_count": 7,
   "metadata": {},
   "outputs": [
    {
     "data": {
      "text/plain": [
       "Policy\n",
       "EEO                        EEO - sent 1 EEO - sent 2 EEO - sent 3\n",
       "Military Leave    Military Leave - sent 4 Military Leave - sent 5\n",
       "dtype: object"
      ]
     },
     "execution_count": 7,
     "metadata": {},
     "output_type": "execute_result"
    }
   ],
   "source": [
    "# Output of the custom transformer\n",
    "\n",
    "tf_output"
   ]
  },
  {
   "cell_type": "markdown",
   "metadata": {},
   "source": [
    "### Takeaway:\n",
    "- As seen above, we've created a custom transformer which can be easily called, and, **more importantly, be used within a `sklearn pipeline` so that it faclitates streamlined transformations across datasets** (e.g. train, validation, test) \n",
    "- A simple objective that was established in the begining is now met. We have grouped the titles by policy and text from each policy group can now be used for various aspects. \n",
    "    - *For instance*: this text can be preprocessed and **NLP techniques can be applied on them to examine document similarity** across policies."
   ]
  },
  {
   "cell_type": "markdown",
   "metadata": {},
   "source": [
    "---"
   ]
  },
  {
   "cell_type": "markdown",
   "metadata": {},
   "source": [
    "### Custom Transformer via sklearn-pandas DataFrameMapper"
   ]
  },
  {
   "cell_type": "code",
   "execution_count": 8,
   "metadata": {},
   "outputs": [],
   "source": [
    "# 1. Without Alias"
   ]
  },
  {
   "cell_type": "code",
   "execution_count": 9,
   "metadata": {},
   "outputs": [],
   "source": [
    "tf_output_dfm = DataFrameMapper(\n",
    "    [\n",
    "        ( ['Policy', 'bodytext'], txt_grp_tf )  # list of column names from the I/P pandas dataframe, object that performs the transformation on the columns\n",
    "    ], \n",
    "    df_out = True,  # if True, df is returned; if False numpy array is returned\n",
    "    input_df = True  # Set to true if passing a df as input data set\n",
    ") "
   ]
  },
  {
   "cell_type": "code",
   "execution_count": 10,
   "metadata": {
    "scrolled": true
   },
   "outputs": [
    {
     "data": {
      "text/plain": [
       "DataFrameMapper(df_out=True, drop_cols=[],\n",
       "                features=[(['Policy', 'bodytext'],\n",
       "                           TextGroupingCustomTransformer(grp_by_col='Policy',\n",
       "                                                         text_content_column='bodytext'))],\n",
       "                input_df=True)"
      ]
     },
     "execution_count": 10,
     "metadata": {},
     "output_type": "execute_result"
    }
   ],
   "source": [
    "tf_output_dfm"
   ]
  },
  {
   "cell_type": "code",
   "execution_count": 11,
   "metadata": {
    "scrolled": true
   },
   "outputs": [
    {
     "name": "stdout",
     "output_type": "stream",
     "text": [
      "Grouped by:\n",
      "0    : EEO\n",
      "1    : Military Leave\n",
      "------------------------------\n",
      "Returning an object of type:  <class 'pandas.core.series.Series'>\n"
     ]
    },
    {
     "data": {
      "text/html": [
       "<div>\n",
       "<style scoped>\n",
       "    .dataframe tbody tr th:only-of-type {\n",
       "        vertical-align: middle;\n",
       "    }\n",
       "\n",
       "    .dataframe tbody tr th {\n",
       "        vertical-align: top;\n",
       "    }\n",
       "\n",
       "    .dataframe thead th {\n",
       "        text-align: right;\n",
       "    }\n",
       "</style>\n",
       "<table border=\"1\" class=\"dataframe\">\n",
       "  <thead>\n",
       "    <tr style=\"text-align: right;\">\n",
       "      <th></th>\n",
       "      <th>Policy_bodytext</th>\n",
       "    </tr>\n",
       "  </thead>\n",
       "  <tbody>\n",
       "    <tr>\n",
       "      <th>0</th>\n",
       "      <td>EEO - sent 1 EEO - sent 2 EEO - sent 3</td>\n",
       "    </tr>\n",
       "    <tr>\n",
       "      <th>1</th>\n",
       "      <td>Military Leave - sent 4 Military Leave - sent 5</td>\n",
       "    </tr>\n",
       "  </tbody>\n",
       "</table>\n",
       "</div>"
      ],
      "text/plain": [
       "                                   Policy_bodytext\n",
       "0           EEO - sent 1 EEO - sent 2 EEO - sent 3\n",
       "1  Military Leave - sent 4 Military Leave - sent 5"
      ]
     },
     "execution_count": 11,
     "metadata": {},
     "output_type": "execute_result"
    }
   ],
   "source": [
    "tf_output_dfm.fit_transform(data)"
   ]
  },
  {
   "cell_type": "code",
   "execution_count": 12,
   "metadata": {},
   "outputs": [],
   "source": [
    "# 2. With Alias provided"
   ]
  },
  {
   "cell_type": "code",
   "execution_count": 13,
   "metadata": {},
   "outputs": [],
   "source": [
    "tf_output_dfm_with_alias = DataFrameMapper(\n",
    "    [\n",
    "        ( ['Policy', 'bodytext'], txt_grp_tf, {'alias':'Text_grouped_by_Policy'} )\n",
    "    ], \n",
    "    df_out = True,\n",
    "    input_df = True\n",
    ") "
   ]
  },
  {
   "cell_type": "code",
   "execution_count": 14,
   "metadata": {
    "scrolled": true
   },
   "outputs": [
    {
     "data": {
      "text/plain": [
       "DataFrameMapper(df_out=True, drop_cols=[],\n",
       "                features=[(['Policy', 'bodytext'],\n",
       "                           TextGroupingCustomTransformer(grp_by_col='Policy',\n",
       "                                                         text_content_column='bodytext'),\n",
       "                           {'alias': 'Text_grouped_by_Policy'})],\n",
       "                input_df=True)"
      ]
     },
     "execution_count": 14,
     "metadata": {},
     "output_type": "execute_result"
    }
   ],
   "source": [
    "tf_output_dfm_with_alias"
   ]
  },
  {
   "cell_type": "code",
   "execution_count": 15,
   "metadata": {
    "scrolled": true
   },
   "outputs": [
    {
     "name": "stdout",
     "output_type": "stream",
     "text": [
      "Grouped by:\n",
      "0    : EEO\n",
      "1    : Military Leave\n",
      "------------------------------\n",
      "Returning an object of type:  <class 'pandas.core.series.Series'>\n"
     ]
    },
    {
     "data": {
      "text/html": [
       "<div>\n",
       "<style scoped>\n",
       "    .dataframe tbody tr th:only-of-type {\n",
       "        vertical-align: middle;\n",
       "    }\n",
       "\n",
       "    .dataframe tbody tr th {\n",
       "        vertical-align: top;\n",
       "    }\n",
       "\n",
       "    .dataframe thead th {\n",
       "        text-align: right;\n",
       "    }\n",
       "</style>\n",
       "<table border=\"1\" class=\"dataframe\">\n",
       "  <thead>\n",
       "    <tr style=\"text-align: right;\">\n",
       "      <th></th>\n",
       "      <th>Text_grouped_by_Policy</th>\n",
       "    </tr>\n",
       "  </thead>\n",
       "  <tbody>\n",
       "    <tr>\n",
       "      <th>0</th>\n",
       "      <td>EEO - sent 1 EEO - sent 2 EEO - sent 3</td>\n",
       "    </tr>\n",
       "    <tr>\n",
       "      <th>1</th>\n",
       "      <td>Military Leave - sent 4 Military Leave - sent 5</td>\n",
       "    </tr>\n",
       "  </tbody>\n",
       "</table>\n",
       "</div>"
      ],
      "text/plain": [
       "                            Text_grouped_by_Policy\n",
       "0           EEO - sent 1 EEO - sent 2 EEO - sent 3\n",
       "1  Military Leave - sent 4 Military Leave - sent 5"
      ]
     },
     "execution_count": 15,
     "metadata": {},
     "output_type": "execute_result"
    }
   ],
   "source": [
    "tf_output_dfm_with_alias.fit_transform(data)"
   ]
  },
  {
   "cell_type": "markdown",
   "metadata": {},
   "source": [
    "---"
   ]
  },
  {
   "cell_type": "markdown",
   "metadata": {},
   "source": [
    "## II. Sklearn - Custom Transformer (return pd.df)\n",
    "\n",
    "- Creating a version of the custom transformer defined above to return a pandas dataframe\n",
    "- The objective of doing this is to be able to compare the features on this compared to the upcoming **DataFrameMapper** exercise below"
   ]
  },
  {
   "cell_type": "code",
   "execution_count": 62,
   "metadata": {},
   "outputs": [],
   "source": [
    "class TextGroupingCustomTransformer_df(BaseEstimator, TransformerMixin):\n",
    "    \"\"\"\n",
    "    Descr: \n",
    "        This class contains methods to undertake grouping of\n",
    "        text within each policy by the overall policy it falls\n",
    "        under. This custom transformer will be used in sklearn\n",
    "        pipelines to prevent data leakage and to automate similar\n",
    "        tranformation on unseen data.\n",
    "        In order to make this custom transformer compatible with\n",
    "        sklearn, it is implemented as a class with methods such as\n",
    "        fit, transform while inheriting from the 2 base classes \n",
    "        mentioned\n",
    "    Return:\n",
    "        - Pandas DataFrame\n",
    "    \"\"\"\n",
    "    \n",
    "    # Class constructor\n",
    "    def __init__(self, grp_by_col, text_content_column):\n",
    "        \"\"\"\n",
    "        Descr: \n",
    "            Class constructor that initializes the class\n",
    "        Input:\n",
    "            - grp_by_col (str): Column to group on\n",
    "            - text_content_column (str): Column whose contents are \n",
    "              to be concatenated per group\n",
    "        \"\"\"\n",
    "        # Check is string is entered\n",
    "        if not isinstance(grp_by_col, str):\n",
    "            raise ValueError('Inappropriate type: {} for policy. A string \\\n",
    "is expected'.format(type(grp_by_col)))\n",
    "\n",
    "        if not isinstance(text_content_column, str):\n",
    "            raise ValueError('Inappropriate type: {} for policy. A string \\\n",
    "is expected'.format(type(text_content_column)))\n",
    "        \n",
    "        # Set class variables\n",
    "        self.grp_by_col = grp_by_col\n",
    "        self.text_content_column = text_content_column\n",
    "\n",
    "        \n",
    "    # Fit Method\n",
    "    def fit(self, X, y=None):\n",
    "        \"\"\"\n",
    "        Descr: \n",
    "            Fit method\n",
    "        Input:\n",
    "            - X (pd.DataFrame or np.array): features\n",
    "            - y (pd.Series or np.array): target\n",
    "        Return:\n",
    "            - self\n",
    "        \"\"\"        \n",
    "        return self\n",
    "\n",
    "    \n",
    "    # Text Grouping function\n",
    "    def text_grping_func(self, grped_txt_col):\n",
    "        \"\"\"\n",
    "        Descr: \n",
    "             # Text Grouping function used by Transform method below\n",
    "        Input:\n",
    "            - grped_txt_col (pd.Series): column from grouped data\n",
    "        Return:\n",
    "            - string of text concatenated across titles within a policy\n",
    "        \"\"\"\n",
    "        return \" \".join(content for content in grped_txt_col)\n",
    "\n",
    "    \n",
    "    # Transform Method\n",
    "    def transform(self, X, y=None):\n",
    "        \"\"\"\n",
    "        Descr: \n",
    "            Transform Method for custom transformations\n",
    "        Input:\n",
    "            - X (pd.DataFrame or np.array): features\n",
    "            - y (pd.Series or np.array): target\n",
    "        Return:\n",
    "            - pd.DataFrame\n",
    "        \"\"\"        \n",
    "        # Create a policy group to group df by policy\n",
    "        policy_grp = X.groupby(self.grp_by_col)\n",
    "        \n",
    "        # Checking the groupings done above\n",
    "        print('Grouped by:')\n",
    "        # print(policy_grp.groups.keys())\n",
    "        for i, key in enumerate(policy_grp.groups.keys()):\n",
    "            print(f\"{i:<{4}} : {key}\")\n",
    "        print('-'*30)\n",
    "        \n",
    "        # lambda function on the group to apply grouping\n",
    "        # tranformation to each group\n",
    "        tf_return = policy_grp.apply(lambda g: self.text_grping_func(g[self.text_content_column]))\n",
    "        \n",
    "        tf_return = pd.DataFrame(tf_return).reset_index()\n",
    "        tf_return.columns = [self.grp_by_col, self.text_content_column+'_joined'] # If not supplied, then another option is to supply and use the get_feature_names() method for renaming the output df later. Also, if not supplied, any output transformed columns are numbered starting from 0\n",
    "\n",
    "        print('Returning an object of type: ', type(tf_return))\n",
    "        \n",
    "        return tf_return\n",
    "\n",
    "    def get_feature_names(self):\n",
    "        \"\"\"\n",
    "        Descr: \n",
    "            Function to return the names of the transformed columns\n",
    "        Return:\n",
    "            - list of names of transformed columns\n",
    "        \"\"\"\n",
    "        return (['Policy_grouped','Text_across_policies_concatenated'])\n",
    "    "
   ]
  },
  {
   "cell_type": "markdown",
   "metadata": {},
   "source": [
    "---"
   ]
  },
  {
   "cell_type": "markdown",
   "metadata": {},
   "source": [
    "### Custom Transformer via sklearn (df version)"
   ]
  },
  {
   "cell_type": "code",
   "execution_count": 63,
   "metadata": {
    "scrolled": true
   },
   "outputs": [
    {
     "data": {
      "text/plain": [
       "TextGroupingCustomTransformer_df(grp_by_col='Policy',\n",
       "                                 text_content_column='bodytext')"
      ]
     },
     "execution_count": 63,
     "metadata": {},
     "output_type": "execute_result"
    }
   ],
   "source": [
    "# Instantiate the custom transformer\n",
    "\n",
    "txt_grp_tf_df = TextGroupingCustomTransformer_df('Policy', 'bodytext')\n",
    "txt_grp_tf_df"
   ]
  },
  {
   "cell_type": "code",
   "execution_count": 64,
   "metadata": {
    "scrolled": true
   },
   "outputs": [
    {
     "name": "stdout",
     "output_type": "stream",
     "text": [
      "Grouped by:\n",
      "0    : EEO\n",
      "1    : Military Leave\n",
      "------------------------------\n",
      "Returning an object of type:  <class 'pandas.core.frame.DataFrame'>\n"
     ]
    }
   ],
   "source": [
    "# Run the transformer on the toy data established earlier\n",
    "\n",
    "tf_output_df = txt_grp_tf_df.fit_transform(data)"
   ]
  },
  {
   "cell_type": "code",
   "execution_count": 65,
   "metadata": {},
   "outputs": [
    {
     "data": {
      "text/html": [
       "<div>\n",
       "<style scoped>\n",
       "    .dataframe tbody tr th:only-of-type {\n",
       "        vertical-align: middle;\n",
       "    }\n",
       "\n",
       "    .dataframe tbody tr th {\n",
       "        vertical-align: top;\n",
       "    }\n",
       "\n",
       "    .dataframe thead th {\n",
       "        text-align: right;\n",
       "    }\n",
       "</style>\n",
       "<table border=\"1\" class=\"dataframe\">\n",
       "  <thead>\n",
       "    <tr style=\"text-align: right;\">\n",
       "      <th></th>\n",
       "      <th>Policy</th>\n",
       "      <th>bodytext_joined</th>\n",
       "    </tr>\n",
       "  </thead>\n",
       "  <tbody>\n",
       "    <tr>\n",
       "      <th>0</th>\n",
       "      <td>EEO</td>\n",
       "      <td>EEO - sent 1 EEO - sent 2 EEO - sent 3</td>\n",
       "    </tr>\n",
       "    <tr>\n",
       "      <th>1</th>\n",
       "      <td>Military Leave</td>\n",
       "      <td>Military Leave - sent 4 Military Leave - sent 5</td>\n",
       "    </tr>\n",
       "  </tbody>\n",
       "</table>\n",
       "</div>"
      ],
      "text/plain": [
       "           Policy                                  bodytext_joined\n",
       "0             EEO           EEO - sent 1 EEO - sent 2 EEO - sent 3\n",
       "1  Military Leave  Military Leave - sent 4 Military Leave - sent 5"
      ]
     },
     "execution_count": 65,
     "metadata": {},
     "output_type": "execute_result"
    }
   ],
   "source": [
    "# Output of the custom transformer\n",
    "\n",
    "tf_output_df"
   ]
  },
  {
   "cell_type": "markdown",
   "metadata": {},
   "source": [
    "### Takeaway:\n",
    "- Only essential difference between this version (return df) and the earlier (return series) is the output format which is a pandas dataframe\n",
    "- We will compare this to the output of the DataFrameMapper on the a custom transformer that uses it and base it on the same data\n",
    "- if the `tf_return.columns` is not defined (comment it out in custom transformer definition) then the transformed column names are numerically represented (starting with 0) and these are prefixed to the columns names defined in the get_feature_names() method. "
   ]
  },
  {
   "cell_type": "markdown",
   "metadata": {},
   "source": [
    "---"
   ]
  },
  {
   "cell_type": "markdown",
   "metadata": {},
   "source": [
    "### Custom Transformer via sklearn-pandas DataFrameMapper (df version)"
   ]
  },
  {
   "cell_type": "code",
   "execution_count": 51,
   "metadata": {},
   "outputs": [],
   "source": [
    "# 1. Without Alias"
   ]
  },
  {
   "cell_type": "code",
   "execution_count": 52,
   "metadata": {},
   "outputs": [],
   "source": [
    "tf_output_dfm_df = DataFrameMapper(\n",
    "    [\n",
    "        ( ['Policy', 'bodytext'], txt_grp_tf_df )  # list of column names from the I/P pandas dataframe, object that performs the transformation on the columns\n",
    "    ], \n",
    "    df_out = True,\n",
    "    input_df = True\n",
    ") "
   ]
  },
  {
   "cell_type": "code",
   "execution_count": 53,
   "metadata": {
    "scrolled": true
   },
   "outputs": [
    {
     "data": {
      "text/plain": [
       "DataFrameMapper(df_out=True, drop_cols=[],\n",
       "                features=[(['Policy', 'bodytext'],\n",
       "                           TextGroupingCustomTransformer_df(grp_by_col='Policy',\n",
       "                                                            text_content_column='bodytext'))],\n",
       "                input_df=True)"
      ]
     },
     "execution_count": 53,
     "metadata": {},
     "output_type": "execute_result"
    }
   ],
   "source": [
    "tf_output_dfm_df"
   ]
  },
  {
   "cell_type": "code",
   "execution_count": 54,
   "metadata": {
    "scrolled": true
   },
   "outputs": [
    {
     "name": "stdout",
     "output_type": "stream",
     "text": [
      "Grouped by:\n",
      "0    : EEO\n",
      "1    : Military Leave\n",
      "------------------------------\n",
      "Returning an object of type:  <class 'pandas.core.frame.DataFrame'>\n"
     ]
    },
    {
     "data": {
      "text/html": [
       "<div>\n",
       "<style scoped>\n",
       "    .dataframe tbody tr th:only-of-type {\n",
       "        vertical-align: middle;\n",
       "    }\n",
       "\n",
       "    .dataframe tbody tr th {\n",
       "        vertical-align: top;\n",
       "    }\n",
       "\n",
       "    .dataframe thead th {\n",
       "        text-align: right;\n",
       "    }\n",
       "</style>\n",
       "<table border=\"1\" class=\"dataframe\">\n",
       "  <thead>\n",
       "    <tr style=\"text-align: right;\">\n",
       "      <th></th>\n",
       "      <th>Policy_bodytext_Policy_grouped</th>\n",
       "      <th>Policy_bodytext_Text_across_policies_concatenated</th>\n",
       "    </tr>\n",
       "  </thead>\n",
       "  <tbody>\n",
       "    <tr>\n",
       "      <th>0</th>\n",
       "      <td>EEO</td>\n",
       "      <td>EEO - sent 1 EEO - sent 2 EEO - sent 3</td>\n",
       "    </tr>\n",
       "    <tr>\n",
       "      <th>1</th>\n",
       "      <td>Military Leave</td>\n",
       "      <td>Military Leave - sent 4 Military Leave - sent 5</td>\n",
       "    </tr>\n",
       "  </tbody>\n",
       "</table>\n",
       "</div>"
      ],
      "text/plain": [
       "  Policy_bodytext_Policy_grouped  \\\n",
       "0                            EEO   \n",
       "1                 Military Leave   \n",
       "\n",
       "  Policy_bodytext_Text_across_policies_concatenated  \n",
       "0            EEO - sent 1 EEO - sent 2 EEO - sent 3  \n",
       "1   Military Leave - sent 4 Military Leave - sent 5  "
      ]
     },
     "execution_count": 54,
     "metadata": {},
     "output_type": "execute_result"
    }
   ],
   "source": [
    "tf_output_dfm_df.fit_transform(data)"
   ]
  },
  {
   "cell_type": "code",
   "execution_count": 55,
   "metadata": {},
   "outputs": [],
   "source": [
    "# 2. With Alias provided"
   ]
  },
  {
   "cell_type": "code",
   "execution_count": 59,
   "metadata": {},
   "outputs": [],
   "source": [
    "tf_output_dfm_df_with_alias = DataFrameMapper(\n",
    "    [\n",
    "        ( ['Policy', 'bodytext'], txt_grp_tf_df, {'alias':'tf_col'} )\n",
    "    ], \n",
    "    df_out = True,\n",
    "    input_df = True\n",
    ") "
   ]
  },
  {
   "cell_type": "code",
   "execution_count": 60,
   "metadata": {
    "scrolled": true
   },
   "outputs": [
    {
     "data": {
      "text/plain": [
       "DataFrameMapper(df_out=True, drop_cols=[],\n",
       "                features=[(['Policy', 'bodytext'],\n",
       "                           TextGroupingCustomTransformer_df(grp_by_col='Policy',\n",
       "                                                            text_content_column='bodytext'),\n",
       "                           {'alias': 'tf_col'})],\n",
       "                input_df=True)"
      ]
     },
     "execution_count": 60,
     "metadata": {},
     "output_type": "execute_result"
    }
   ],
   "source": [
    "tf_output_dfm_df_with_alias"
   ]
  },
  {
   "cell_type": "code",
   "execution_count": 61,
   "metadata": {
    "scrolled": true
   },
   "outputs": [
    {
     "name": "stdout",
     "output_type": "stream",
     "text": [
      "Grouped by:\n",
      "0    : EEO\n",
      "1    : Military Leave\n",
      "------------------------------\n",
      "Returning an object of type:  <class 'pandas.core.frame.DataFrame'>\n"
     ]
    },
    {
     "data": {
      "text/html": [
       "<div>\n",
       "<style scoped>\n",
       "    .dataframe tbody tr th:only-of-type {\n",
       "        vertical-align: middle;\n",
       "    }\n",
       "\n",
       "    .dataframe tbody tr th {\n",
       "        vertical-align: top;\n",
       "    }\n",
       "\n",
       "    .dataframe thead th {\n",
       "        text-align: right;\n",
       "    }\n",
       "</style>\n",
       "<table border=\"1\" class=\"dataframe\">\n",
       "  <thead>\n",
       "    <tr style=\"text-align: right;\">\n",
       "      <th></th>\n",
       "      <th>tf_col_Policy_grouped</th>\n",
       "      <th>tf_col_Text_across_policies_concatenated</th>\n",
       "    </tr>\n",
       "  </thead>\n",
       "  <tbody>\n",
       "    <tr>\n",
       "      <th>0</th>\n",
       "      <td>EEO</td>\n",
       "      <td>EEO - sent 1 EEO - sent 2 EEO - sent 3</td>\n",
       "    </tr>\n",
       "    <tr>\n",
       "      <th>1</th>\n",
       "      <td>Military Leave</td>\n",
       "      <td>Military Leave - sent 4 Military Leave - sent 5</td>\n",
       "    </tr>\n",
       "  </tbody>\n",
       "</table>\n",
       "</div>"
      ],
      "text/plain": [
       "  tf_col_Policy_grouped         tf_col_Text_across_policies_concatenated\n",
       "0                   EEO           EEO - sent 1 EEO - sent 2 EEO - sent 3\n",
       "1        Military Leave  Military Leave - sent 4 Military Leave - sent 5"
      ]
     },
     "execution_count": 61,
     "metadata": {},
     "output_type": "execute_result"
    }
   ],
   "source": [
    "tf_output_dfm_df_with_alias.fit_transform(data)"
   ]
  },
  {
   "cell_type": "markdown",
   "metadata": {},
   "source": [
    "### Takeaway:\n",
    "\n",
    "- With sklearn custom transformers, normally the output is numpy array of the transformed features, and are \"reduced\" to sparse matrices. Additionally, columns are to be labelled if converting into a pandas dataframe should we require furhter analysis.\n",
    "- With **`sklearn-pandas DataFrameMapper`**, this step can be streamlined and comes in very handy if we intend further dig into the transformed features.\n",
    "- If `alias` is provided, it is prefixed to the column names as defined in the get_feature_names() method\n",
    "- If `alias` is not provided, the individual column names are prefixed to the columns names defined in the get_feature_names() method\n",
    "- if the `tf_return.columns` is defined (uncomment in custom transformer definition) then the names defined here are prefixed to the columns names defined in the get_feature_names() method. "
   ]
  },
  {
   "cell_type": "markdown",
   "metadata": {},
   "source": [
    "---"
   ]
  }
 ],
 "metadata": {
  "kernelspec": {
   "display_name": "Python 3",
   "language": "python",
   "name": "python3"
  },
  "language_info": {
   "codemirror_mode": {
    "name": "ipython",
    "version": 3
   },
   "file_extension": ".py",
   "mimetype": "text/x-python",
   "name": "python",
   "nbconvert_exporter": "python",
   "pygments_lexer": "ipython3",
   "version": "3.7.6"
  }
 },
 "nbformat": 4,
 "nbformat_minor": 4
}
