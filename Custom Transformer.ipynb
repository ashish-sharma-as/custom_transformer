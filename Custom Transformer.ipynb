{
 "cells": [
  {
   "cell_type": "markdown",
   "metadata": {},
   "source": [
    "# Customer Transformer\n",
    "\n",
    "- sklearn pipeline\n",
    "- sklearn_pandas DataFrameMapper"
   ]
  },
  {
   "cell_type": "markdown",
   "metadata": {},
   "source": [
    "---"
   ]
  },
  {
   "cell_type": "markdown",
   "metadata": {},
   "source": [
    "## Import Modules"
   ]
  },
  {
   "cell_type": "code",
   "execution_count": 8,
   "metadata": {},
   "outputs": [],
   "source": [
    "# Standard\n",
    "import pandas as pd\n",
    "\n",
    "# Custom Transformer - Classes for inheritance\n",
    "from sklearn.base import BaseEstimator, TransformerMixin\n",
    "\n",
    "# DataFrame Mapper\n",
    "from sklearn_pandas import DataFrameMapper"
   ]
  },
  {
   "cell_type": "markdown",
   "metadata": {},
   "source": [
    "## Toy Data"
   ]
  },
  {
   "cell_type": "code",
   "execution_count": 6,
   "metadata": {},
   "outputs": [],
   "source": [
    "data = pd.DataFrame({'Title':      ['EEO - New York', 'EEO - Miami', 'EEO - New Jersey', 'Military Leave - Maine', 'Military Leave - Illinois'], \n",
    "                     'Policy': ['EEO', 'EEO', 'EEO', 'Military Leave', 'Military Leave'], \n",
    "                     'bodytext':   ['EEO - sent 1', 'EEO - sent 2', 'EEO - sent 3', 'Military Leave - sent 4', 'Military Leave - sent 5'], \n",
    "                     'ArticleID': [100, 200, 300, 400, 500]})"
   ]
  },
  {
   "cell_type": "code",
   "execution_count": 7,
   "metadata": {},
   "outputs": [
    {
     "data": {
      "text/html": [
       "<div>\n",
       "<style scoped>\n",
       "    .dataframe tbody tr th:only-of-type {\n",
       "        vertical-align: middle;\n",
       "    }\n",
       "\n",
       "    .dataframe tbody tr th {\n",
       "        vertical-align: top;\n",
       "    }\n",
       "\n",
       "    .dataframe thead th {\n",
       "        text-align: right;\n",
       "    }\n",
       "</style>\n",
       "<table border=\"1\" class=\"dataframe\">\n",
       "  <thead>\n",
       "    <tr style=\"text-align: right;\">\n",
       "      <th></th>\n",
       "      <th>Title</th>\n",
       "      <th>Policy</th>\n",
       "      <th>bodytext</th>\n",
       "      <th>ArticleID</th>\n",
       "    </tr>\n",
       "  </thead>\n",
       "  <tbody>\n",
       "    <tr>\n",
       "      <th>0</th>\n",
       "      <td>EEO - New York</td>\n",
       "      <td>EEO</td>\n",
       "      <td>EEO - sent 1</td>\n",
       "      <td>100</td>\n",
       "    </tr>\n",
       "    <tr>\n",
       "      <th>1</th>\n",
       "      <td>EEO - Miami</td>\n",
       "      <td>EEO</td>\n",
       "      <td>EEO - sent 2</td>\n",
       "      <td>200</td>\n",
       "    </tr>\n",
       "    <tr>\n",
       "      <th>2</th>\n",
       "      <td>EEO - New Jersey</td>\n",
       "      <td>EEO</td>\n",
       "      <td>EEO - sent 3</td>\n",
       "      <td>300</td>\n",
       "    </tr>\n",
       "    <tr>\n",
       "      <th>3</th>\n",
       "      <td>Military Leave - Maine</td>\n",
       "      <td>Military Leave</td>\n",
       "      <td>Military Leave - sent 4</td>\n",
       "      <td>400</td>\n",
       "    </tr>\n",
       "    <tr>\n",
       "      <th>4</th>\n",
       "      <td>Military Leave - Illinois</td>\n",
       "      <td>Military Leave</td>\n",
       "      <td>Military Leave - sent 5</td>\n",
       "      <td>500</td>\n",
       "    </tr>\n",
       "  </tbody>\n",
       "</table>\n",
       "</div>"
      ],
      "text/plain": [
       "                       Title          Policy                 bodytext  \\\n",
       "0             EEO - New York             EEO             EEO - sent 1   \n",
       "1                EEO - Miami             EEO             EEO - sent 2   \n",
       "2           EEO - New Jersey             EEO             EEO - sent 3   \n",
       "3     Military Leave - Maine  Military Leave  Military Leave - sent 4   \n",
       "4  Military Leave - Illinois  Military Leave  Military Leave - sent 5   \n",
       "\n",
       "   ArticleID  \n",
       "0        100  \n",
       "1        200  \n",
       "2        300  \n",
       "3        400  \n",
       "4        500  "
      ]
     },
     "execution_count": 7,
     "metadata": {},
     "output_type": "execute_result"
    }
   ],
   "source": [
    "data"
   ]
  },
  {
   "cell_type": "markdown",
   "metadata": {},
   "source": [
    "## Sklearn - Custom Transformer"
   ]
  },
  {
   "cell_type": "markdown",
   "metadata": {},
   "source": [
    "- Idea here is to create a custom transformer that can be used across datasets in an automated fashion\n",
    "- Therefore, let's use sklearn custom transformer so that the same operations can be done across datasets in a streamlined manner\n",
    "- Objective is to be group all the text within \"bodytext\" into 1 such that this appears against each policy group denoted by the \"Policy\" column"
   ]
  },
  {
   "cell_type": "code",
   "execution_count": 66,
   "metadata": {},
   "outputs": [],
   "source": [
    "class TextGroupingCustomTransformer(BaseEstimator, TransformerMixin):\n",
    "    \"\"\"\n",
    "    Descr: \n",
    "    This class contains methods to undertake grouping of text\n",
    "    within each policy by the overall policy it falls under.\n",
    "    This custom transformer will be used in sklearn pipelines\n",
    "    to prevent data leakage and to automate similar transformations\n",
    "    on unseen data.\n",
    "    In order to make this custom transformer compatible with\n",
    "    sklearn, it is implemented as a class with methods such as\n",
    "    fit, transform while inheriting from the 2 base classes mentioned\n",
    "    ------------------------------------------------------------------\n",
    "    Input:\n",
    "        - Column to group on\n",
    "        - Column whose contents are to be concatenated per group\n",
    "    Return:\n",
    "        - Pandas Series\n",
    "    \"\"\"\n",
    "    \n",
    "    # Class constructor\n",
    "    def __init__(self, grp_by_col, text_content_column):\n",
    "        self.grp_by_col = grp_by_col\n",
    "        self.text_content_column = text_content_column\n",
    "    \n",
    "    # Fit Method - returns self\n",
    "    def fit(self, X, y=None):\n",
    "        return self\n",
    "    \n",
    "    # Text Grouping function used by Transform method below\n",
    "    def text_grping_func(self, grped_txt_col):\n",
    "        return \" \".join(content for content in grped_txt_col)\n",
    "    \n",
    "    # Transform Method for custom transformations\n",
    "    def transform(self, X, y=None):\n",
    "        \n",
    "        # Create a policy group to group df by policy\n",
    "        policy_grp = X.groupby(self.grp_by_col)\n",
    "        \n",
    "        # Checking the groupings done above\n",
    "        print('Grouped by:')\n",
    "        # print(policy_grp.groups.keys())\n",
    "        for i, key in enumerate(policy_grp.groups.keys()):\n",
    "            print(f\"{i:<{4}} : {key}\")\n",
    "        print('-'*30)\n",
    "        \n",
    "        # lambda function on the group to apply grouping\n",
    "        # tranformation to each group\n",
    "        tf_return = policy_grp.apply(lambda g: self.text_grping_func(g[self.text_content_column]))\n",
    "        \n",
    "        print('Returning an object of type: ', type(tf_return))\n",
    "        \n",
    "        return tf_return"
   ]
  },
  {
   "cell_type": "code",
   "execution_count": 67,
   "metadata": {},
   "outputs": [
    {
     "data": {
      "text/plain": [
       "TextGroupingCustomTransformer(grp_by_col='Policy',\n",
       "                              text_content_column='bodytext')"
      ]
     },
     "execution_count": 67,
     "metadata": {},
     "output_type": "execute_result"
    }
   ],
   "source": [
    "# Instantiate the custom transformer\n",
    "\n",
    "txt_grp_tf = TextGroupingCustomTransformer('Policy', 'bodytext')\n",
    "txt_grp_tf"
   ]
  },
  {
   "cell_type": "code",
   "execution_count": 68,
   "metadata": {},
   "outputs": [
    {
     "name": "stdout",
     "output_type": "stream",
     "text": [
      "Grouped by:\n",
      "0    : EEO\n",
      "1    : Military Leave\n",
      "------------------------------\n",
      "Returning an object of type:  <class 'pandas.core.series.Series'>\n"
     ]
    }
   ],
   "source": [
    "# Run the transformer on the toy data established earlier\n",
    "\n",
    "tf_output = txt_grp_tf.fit_transform(data)"
   ]
  },
  {
   "cell_type": "code",
   "execution_count": 71,
   "metadata": {},
   "outputs": [
    {
     "data": {
      "text/plain": [
       "Policy\n",
       "EEO                        EEO - sent 1 EEO - sent 2 EEO - sent 3\n",
       "Military Leave    Military Leave - sent 4 Military Leave - sent 5\n",
       "dtype: object"
      ]
     },
     "execution_count": 71,
     "metadata": {},
     "output_type": "execute_result"
    }
   ],
   "source": [
    "# Output of the custom transformer\n",
    "\n",
    "tf_output"
   ]
  },
  {
   "cell_type": "markdown",
   "metadata": {},
   "source": [
    "### Takeaway:\n",
    "- As seen above, we've created a custom transformer which can be easily called, and, **more importantly, be used within a `sklearn pipeline` so that it faclitates streamlined transformations across datasets** (e.g. train, validation, test) \n",
    "- A simple objective that was established in the begining is now met. We have grouped the titles by policy and text from each policy group can now be used for various aspects. \n",
    "    - *For instance*: this text can be preprocessed and **NLP techniques can be applied on them to examine document similarity** across policies."
   ]
  },
  {
   "cell_type": "markdown",
   "metadata": {},
   "source": [
    "## Sklearn DataFrameMapper"
   ]
  },
  {
   "cell_type": "code",
   "execution_count": null,
   "metadata": {},
   "outputs": [],
   "source": []
  }
 ],
 "metadata": {
  "kernelspec": {
   "display_name": "Python 3",
   "language": "python",
   "name": "python3"
  },
  "language_info": {
   "codemirror_mode": {
    "name": "ipython",
    "version": 3
   },
   "file_extension": ".py",
   "mimetype": "text/x-python",
   "name": "python",
   "nbconvert_exporter": "python",
   "pygments_lexer": "ipython3",
   "version": "3.7.6"
  }
 },
 "nbformat": 4,
 "nbformat_minor": 4
}
